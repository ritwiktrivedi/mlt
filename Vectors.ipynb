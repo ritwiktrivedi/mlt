{
  "cells": [
    {
      "cell_type": "markdown",
      "metadata": {
        "colab_type": "text",
        "id": "view-in-github"
      },
      "source": [
        "<a href=\"https://colab.research.google.com/github/ritwiktrivedi/mlt/blob/main/Vectors.ipynb\" target=\"_parent\"><img src=\"https://colab.research.google.com/assets/colab-badge.svg\" alt=\"Open In Colab\"/></a>"
      ]
    },
    {
      "cell_type": "markdown",
      "metadata": {
        "id": "H729Vxqsdh5_"
      },
      "source": [
        "# Vectors\n",
        "\n",
        "In this document, we will look at the following concepts:\n",
        "\n",
        "- Vector as a `NumPy` array\n",
        "- Adding two vectors\n",
        "- Element-wise multiplication of two vectors\n",
        "- Scaling vectors\n",
        "- Function of vectors (element-wise)\n",
        "- Dot-product between two vectors\n",
        "- Shape of a vector\n",
        "- Vector of zeros\n",
        "- Vector of ones"
      ]
    },
    {
      "cell_type": "markdown",
      "metadata": {
        "id": "B1cOisjsIQWW"
      },
      "source": [
        "## Import\n",
        "\n",
        "First we shall import the `NumPy` package."
      ]
    },
    {
      "cell_type": "code",
      "execution_count": 2,
      "metadata": {
        "id": "9BmIfrx3IXZz"
      },
      "outputs": [],
      "source": [
        "import numpy as np"
      ]
    },
    {
      "cell_type": "markdown",
      "metadata": {
        "id": "JvcADsvgIZE3"
      },
      "source": [
        "## Vectors as `NumPy` arrays\n",
        "\n",
        "Consider the following vector:\n",
        "\n",
        "$$\n",
        "\\boldsymbol{x} = \\begin{bmatrix}\n",
        "1\\\\\n",
        "2\\\\\n",
        "3\n",
        "\\end{bmatrix}\n",
        "$$\n",
        "\n",
        "This is expressed as a `NumPy` array:"
      ]
    },
    {
      "cell_type": "code",
      "execution_count": null,
      "metadata": {
        "colab": {
          "base_uri": "https://localhost:8080/"
        },
        "id": "83iQmusSIstp",
        "outputId": "99e933ec-92ca-42cf-a6ef-a7bcf1269080"
      },
      "outputs": [
        {
          "data": {
            "text/plain": [
              "array([1, 2, 3])"
            ]
          },
          "execution_count": 2,
          "metadata": {},
          "output_type": "execute_result"
        }
      ],
      "source": [
        "x = np.array([1, 2, 3])\n",
        "x"
      ]
    },
    {
      "cell_type": "markdown",
      "metadata": {
        "id": "cuD-EykZI0fc"
      },
      "source": [
        "In the cell given above, `np.array` creates a `NumPy` array using a Python list that is passed as argument. Let us check the type of the object `x`:"
      ]
    },
    {
      "cell_type": "code",
      "execution_count": null,
      "metadata": {
        "colab": {
          "base_uri": "https://localhost:8080/"
        },
        "id": "NvyHoR0NJHQ_",
        "outputId": "60d2fba4-edc3-4162-8c75-9443499ecef8"
      },
      "outputs": [
        {
          "data": {
            "text/plain": [
              "numpy.ndarray"
            ]
          },
          "execution_count": 3,
          "metadata": {},
          "output_type": "execute_result"
        }
      ],
      "source": [
        "type(x)"
      ]
    },
    {
      "cell_type": "markdown",
      "metadata": {
        "id": "clOixIBFJJhT"
      },
      "source": [
        "The term `ndarray` refers to an n-dimensional array. The idea of dimensions will become clear when we discuss matrices. For now, our focus will be one-dimensional arrays, or vectors."
      ]
    },
    {
      "cell_type": "markdown",
      "metadata": {
        "id": "j-1J_2tTKeFn"
      },
      "source": [
        "## Vector addition\n",
        "\n",
        "Addition is one of the elementary operations that can be performed on vectors. Given two vectors\n",
        "\n",
        "$$\n",
        "x = \\begin{bmatrix}\n",
        "1\\\\\n",
        "2\\\\\n",
        "3\n",
        "\\end{bmatrix}, y = \\begin{bmatrix}\n",
        "4\\\\\n",
        "5\\\\\n",
        "6\n",
        "\\end{bmatrix}\n",
        "$$\n",
        "\n",
        "we have:\n",
        "\n",
        "$$\n",
        "\\boldsymbol{z} = \\boldsymbol{x} + \\boldsymbol{y}= \\begin{bmatrix}\n",
        "5\\\\\n",
        "7\\\\\n",
        "9\n",
        "\\end{bmatrix}\n",
        "$$\n",
        "\n",
        "In `NumPy` this is expressed as:"
      ]
    },
    {
      "cell_type": "code",
      "execution_count": null,
      "metadata": {
        "colab": {
          "base_uri": "https://localhost:8080/"
        },
        "id": "1Pxa2ZGULiq9",
        "outputId": "d631163c-d1d9-4600-910b-e416bff6e793"
      },
      "outputs": [
        {
          "data": {
            "text/plain": [
              "array([5, 7, 9])"
            ]
          },
          "execution_count": 4,
          "metadata": {},
          "output_type": "execute_result"
        }
      ],
      "source": [
        "x = np.array([1, 2, 3])\n",
        "y = np.array([4, 5, 6])\n",
        "\n",
        "z = x + y\n",
        "z"
      ]
    },
    {
      "cell_type": "markdown",
      "metadata": {
        "id": "DRm5bPA7LnT2"
      },
      "source": [
        "Notice that `NumPy` arrays behave differently from Python lists. The `+` operator applied to two Python lists would result in list concatenation. However, the `+` operator applied to two `NumPy` arrays results in element-wise addition."
      ]
    },
    {
      "cell_type": "markdown",
      "metadata": {
        "id": "ap_Zg_CEL9lz"
      },
      "source": [
        "## Element-wise multiplication\n",
        "\n",
        "Element-wise multiplication of two vectors is called the Hadamard product. The operator corresponding to it is $\\odot$. For example, given two vectors:\n",
        "\n",
        "$$\n",
        "x = \\begin{bmatrix}\n",
        "1\\\\\n",
        "2\\\\\n",
        "3\n",
        "\\end{bmatrix}, y = \\begin{bmatrix}\n",
        "4\\\\\n",
        "5\\\\\n",
        "6\n",
        "\\end{bmatrix}\n",
        "$$\n",
        "\n",
        "we have:\n",
        "\n",
        "$$\n",
        "\\boldsymbol{z} = \\boldsymbol{x} \\odot \\boldsymbol{y}= \\begin{bmatrix}\n",
        "4\\\\\n",
        "10\\\\\n",
        "18\n",
        "\\end{bmatrix}\n",
        "$$\n",
        "\n",
        "In `NumPy` this is expressed as:"
      ]
    },
    {
      "cell_type": "code",
      "execution_count": null,
      "metadata": {
        "colab": {
          "base_uri": "https://localhost:8080/"
        },
        "id": "2v9T-dLrMX8l",
        "outputId": "c29d6623-2b43-4abc-b3c5-28872067be9d"
      },
      "outputs": [
        {
          "data": {
            "text/plain": [
              "array([ 4, 10, 18])"
            ]
          },
          "execution_count": 5,
          "metadata": {},
          "output_type": "execute_result"
        }
      ],
      "source": [
        "x = np.array([1, 2, 3])\n",
        "y = np.array([4, 5, 6])\n",
        "\n",
        "z = x * y\n",
        "z"
      ]
    },
    {
      "cell_type": "markdown",
      "metadata": {
        "id": "Fp6OJRQZMjoW"
      },
      "source": [
        "## Scaling vectors\n",
        "\n",
        "If $\\boldsymbol{x}$ is a vector, scaling it by a constant $k$ is equivalent to element-wise multiplication by $k$. For example, given\n",
        "\n",
        "$$\n",
        "\\boldsymbol{x} = \\begin{bmatrix}\n",
        "1\\\\\n",
        "2\\\\\n",
        "3\n",
        "\\end{bmatrix}\n",
        "$$\n",
        "\n",
        "we have:\n",
        "\n",
        "$$\n",
        "y = 3 \\boldsymbol{x} = \\begin{bmatrix}\n",
        "3\\\\\n",
        "6\\\\\n",
        "9\n",
        "\\end{bmatrix}\n",
        "$$\n",
        "\n",
        "As you might have guessed by now, in `NumPy` this is as simple as:"
      ]
    },
    {
      "cell_type": "code",
      "execution_count": null,
      "metadata": {
        "colab": {
          "base_uri": "https://localhost:8080/"
        },
        "id": "NQGQmZZFM7_z",
        "outputId": "779bc982-14a4-403e-8f3f-256bc42eb487"
      },
      "outputs": [
        {
          "data": {
            "text/plain": [
              "array([3, 6, 9])"
            ]
          },
          "execution_count": 6,
          "metadata": {},
          "output_type": "execute_result"
        }
      ],
      "source": [
        "x = np.array([1, 2, 3])\n",
        "y = 3 * x\n",
        "y"
      ]
    },
    {
      "cell_type": "markdown",
      "metadata": {
        "id": "mBDajmGLP1EE"
      },
      "source": [
        "Again note that this is different from what you would expect with a Python list. The `*` operator for lists would result in replication. Besides, we can multiply a `NumPy` array by any real number, even $0$:"
      ]
    },
    {
      "cell_type": "code",
      "execution_count": null,
      "metadata": {
        "colab": {
          "base_uri": "https://localhost:8080/"
        },
        "id": "RexbR93lQBo5",
        "outputId": "ff2ed09e-858b-4fed-e388-e07f5e4a840d"
      },
      "outputs": [
        {
          "data": {
            "text/plain": [
              "array([0, 0, 0])"
            ]
          },
          "execution_count": 7,
          "metadata": {},
          "output_type": "execute_result"
        }
      ],
      "source": [
        "x = np.array([1, 2, 3])\n",
        "y = 0 * x\n",
        "y"
      ]
    },
    {
      "cell_type": "markdown",
      "metadata": {
        "id": "6U2ERkN5NCPe"
      },
      "source": [
        "## Element-wise functions of vectors\n",
        "\n",
        "Scaling a vector $\\boldsymbol{x}$ by a constant $k$ can be seen as the output of the following function:\n",
        "\n",
        "$$\n",
        "f(\\boldsymbol{x}) = \\begin{bmatrix}\n",
        "kx_1\\\\\n",
        "\\cdots\\\\\n",
        "kx_m\n",
        "\\end{bmatrix}\n",
        "$$\n",
        "\n",
        "This is nothing but the function $f(x) = kx$ applied element-wise. `NumPy` extends this feature for any arbitrary function. For example, consider the function $g(x) = x^2$. This can be applied element-wise:\n",
        "\n",
        "$$\n",
        "g(\\boldsymbol{x}) = \\begin{bmatrix}\n",
        "x_1^2\\\\\n",
        "\\cdots\\\\\n",
        "x_m^2\n",
        "\\end{bmatrix}\n",
        "$$\n",
        "\n",
        "In `NumPy`, this translates to:"
      ]
    },
    {
      "cell_type": "code",
      "execution_count": null,
      "metadata": {
        "colab": {
          "base_uri": "https://localhost:8080/"
        },
        "id": "4J5S44ynN0GR",
        "outputId": "a3f505ea-2399-4ab7-8b05-0ceb1ba7f78e"
      },
      "outputs": [
        {
          "data": {
            "text/plain": [
              "array([ 1,  4,  9, 16])"
            ]
          },
          "execution_count": 8,
          "metadata": {},
          "output_type": "execute_result"
        }
      ],
      "source": [
        "x = np.array([1, 2, 3, 4])\n",
        "y = x ** 2\n",
        "y"
      ]
    },
    {
      "cell_type": "markdown",
      "metadata": {
        "id": "7HDtfZ5GN4Uy"
      },
      "source": [
        "We can take up more complex functions as well. For example, let us take the case of `np.log10`, which is $\\log_{10}$:"
      ]
    },
    {
      "cell_type": "code",
      "execution_count": null,
      "metadata": {
        "colab": {
          "base_uri": "https://localhost:8080/"
        },
        "id": "jbQ6mp1QN-dG",
        "outputId": "b2561561-6d24-4aad-d76a-64a1826ce6f7"
      },
      "outputs": [
        {
          "data": {
            "text/plain": [
              "array([0., 1., 2., 3., 4., 5.])"
            ]
          },
          "execution_count": 9,
          "metadata": {},
          "output_type": "execute_result"
        }
      ],
      "source": [
        "x = np.array([1, 10, 100, 1000, 10000, 100000])\n",
        "y = np.log10(x)\n",
        "y"
      ]
    },
    {
      "cell_type": "markdown",
      "metadata": {
        "id": "gR6xYd4AORyN"
      },
      "source": [
        "Usually, we will stick to the natural logarithm or $\\log_e$. This is given by `np.log`."
      ]
    },
    {
      "cell_type": "code",
      "execution_count": null,
      "metadata": {
        "colab": {
          "base_uri": "https://localhost:8080/"
        },
        "id": "I9CwD-g-Oa1F",
        "outputId": "8de8a96c-aee8-449b-ee91-b9eb10d8c262"
      },
      "outputs": [
        {
          "data": {
            "text/plain": [
              "array([0., 1., 2.])"
            ]
          },
          "execution_count": 10,
          "metadata": {},
          "output_type": "execute_result"
        }
      ],
      "source": [
        "x = np.array([1, np.e, np.e ** 2])\n",
        "y = np.log(x)\n",
        "y"
      ]
    },
    {
      "cell_type": "markdown",
      "metadata": {
        "id": "kQR9yS5ROhFR"
      },
      "source": [
        "## Dot Product\n",
        "\n",
        "The dot product between two vectors $\\mathbf{x}$ and $\\mathbf{y}$ is given as follows:\n",
        "\n",
        "$$\n",
        "z = \\mathbf{x} \\cdot \\mathbf{y} = \\sum \\limits_{j = 1}^{m} x_j y_j\n",
        "$$\n",
        "\n",
        "In `NumPy`, this could be done as follows:"
      ]
    },
    {
      "cell_type": "code",
      "execution_count": null,
      "metadata": {
        "colab": {
          "base_uri": "https://localhost:8080/"
        },
        "id": "yIdGkJG_OxrL",
        "outputId": "c78cc8d8-4166-493b-f6a4-74989c5474b8"
      },
      "outputs": [
        {
          "data": {
            "text/plain": [
              "-60"
            ]
          },
          "execution_count": 11,
          "metadata": {},
          "output_type": "execute_result"
        }
      ],
      "source": [
        "x = np.array([1, 2, 3, 4])\n",
        "y = np.array([-4, -5, -6, -7])\n",
        "\n",
        "z = np.dot(x, y)\n",
        "z"
      ]
    },
    {
      "cell_type": "markdown",
      "metadata": {
        "id": "nvWD-OiQQcu5"
      },
      "source": [
        "## Shape of a vector\n",
        "\n",
        "All `NumPy` arrays have an attribute called `shape`. The shape is a tuple. For vectors (single-dimensional) the shape is of the form $(n, )$, where $n$ is the number of components in the vector."
      ]
    },
    {
      "cell_type": "code",
      "execution_count": null,
      "metadata": {
        "colab": {
          "base_uri": "https://localhost:8080/"
        },
        "id": "fbymB6R9Qsod",
        "outputId": "392fcc46-10b2-4473-c78d-274aff2fcfde"
      },
      "outputs": [
        {
          "data": {
            "text/plain": [
              "(4,)"
            ]
          },
          "execution_count": 12,
          "metadata": {},
          "output_type": "execute_result"
        }
      ],
      "source": [
        "x = np.array([10, 20, 30, 40])\n",
        "x.shape"
      ]
    },
    {
      "cell_type": "markdown",
      "metadata": {
        "id": "XR642G7oQ2Ca"
      },
      "source": [
        "For a vector, the following relationship always holds good:"
      ]
    },
    {
      "cell_type": "code",
      "execution_count": null,
      "metadata": {
        "colab": {
          "base_uri": "https://localhost:8080/"
        },
        "id": "fjNCeIJLQ76H",
        "outputId": "8ab51c57-ec7f-44a3-eeb9-14d7da127c8f"
      },
      "outputs": [
        {
          "data": {
            "text/plain": [
              "True"
            ]
          },
          "execution_count": 13,
          "metadata": {},
          "output_type": "execute_result"
        }
      ],
      "source": [
        "x = np.array([10, 20, 30, 40])\n",
        "x.shape[0] == len(x)"
      ]
    },
    {
      "cell_type": "markdown",
      "metadata": {
        "id": "-oGTCbqVRqUj"
      },
      "source": [
        "## Vector of zeros or ones\n",
        "\n",
        "On many occassions, we might want to create a `NumPy` array all of whose elements are zeros or ones or some other constant. If we want a vector of zeros, one way would be as follows:"
      ]
    },
    {
      "cell_type": "code",
      "execution_count": null,
      "metadata": {
        "colab": {
          "base_uri": "https://localhost:8080/"
        },
        "id": "u_62GwI7Tm11",
        "outputId": "5bc269e6-9e3b-4f3b-deba-d3bdde073e2b"
      },
      "outputs": [
        {
          "data": {
            "text/plain": [
              "array([0, 0, 0, 0])"
            ]
          },
          "execution_count": 14,
          "metadata": {},
          "output_type": "execute_result"
        }
      ],
      "source": [
        "x = np.array([0 for _ in range(4)])\n",
        "x"
      ]
    },
    {
      "cell_type": "markdown",
      "metadata": {
        "id": "M5TnSdFsTxiN"
      },
      "source": [
        "Here, `NumPy` provides a method that makes our job even simpler:"
      ]
    },
    {
      "cell_type": "code",
      "execution_count": null,
      "metadata": {
        "colab": {
          "base_uri": "https://localhost:8080/"
        },
        "id": "4i6VbthkT36F",
        "outputId": "cebc60fb-677c-46b7-d660-d26863df86c8"
      },
      "outputs": [
        {
          "data": {
            "text/plain": [
              "array([0., 0., 0., 0.])"
            ]
          },
          "execution_count": 15,
          "metadata": {},
          "output_type": "execute_result"
        }
      ],
      "source": [
        "x = np.zeros(4)\n",
        "x"
      ]
    },
    {
      "cell_type": "markdown",
      "metadata": {
        "id": "ZBwQuUSpT6Vq"
      },
      "source": [
        "For a vector of ones, we have"
      ]
    },
    {
      "cell_type": "code",
      "execution_count": 3,
      "metadata": {
        "colab": {
          "base_uri": "https://localhost:8080/"
        },
        "id": "QWNxIyvNT8Gk",
        "outputId": "28f6fbf0-9f1f-461e-97e0-a708859afd7c"
      },
      "outputs": [
        {
          "data": {
            "text/plain": [
              "array([1., 1., 1., 1., 1., 1.])"
            ]
          },
          "execution_count": 3,
          "metadata": {},
          "output_type": "execute_result"
        }
      ],
      "source": [
        "x = np.ones(6)\n",
        "x"
      ]
    },
    {
      "cell_type": "markdown",
      "metadata": {
        "id": "Lm4gxG3yT-z3"
      },
      "source": [
        "What about a vector where all the elements are equal to $2$? How can we do that? This is left as an exercise to the reader."
      ]
    },
    {
      "cell_type": "code",
      "execution_count": 4,
      "metadata": {
        "id": "Azanq2RSGbpw"
      },
      "outputs": [
        {
          "data": {
            "text/plain": [
              "array([5., 5., 5., 5., 5., 5.])"
            ]
          },
          "execution_count": 4,
          "metadata": {},
          "output_type": "execute_result"
        }
      ],
      "source": [
        "5*x"
      ]
    },
    {
      "cell_type": "markdown",
      "metadata": {},
      "source": [
        "Once I have an array with ones, I can just scalar multiply to get any other scalar a.k.a constant value array."
      ]
    }
  ],
  "metadata": {
    "colab": {
      "include_colab_link": true,
      "provenance": []
    },
    "kernelspec": {
      "display_name": "Python 3",
      "name": "python3"
    },
    "language_info": {
      "codemirror_mode": {
        "name": "ipython",
        "version": 3
      },
      "file_extension": ".py",
      "mimetype": "text/x-python",
      "name": "python",
      "nbconvert_exporter": "python",
      "pygments_lexer": "ipython3",
      "version": "3.12.2"
    }
  },
  "nbformat": 4,
  "nbformat_minor": 0
}
